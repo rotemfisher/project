{
 "cells": [
  {
   "cell_type": "code",
   "execution_count": 82,
   "metadata": {},
   "outputs": [],
   "source": [
    "import pandas as pd\n",
    "import numpy as np"
   ]
  },
  {
   "cell_type": "code",
   "execution_count": 95,
   "metadata": {},
   "outputs": [],
   "source": [
    "df = pd.read_csv(\"flight_data_kiwi_02_03_25.csv\")"
   ]
  },
  {
   "cell_type": "code",
   "execution_count": 96,
   "metadata": {},
   "outputs": [],
   "source": [
    "# First fill Price from Back Company if needed\n",
    "df['Price'] = df['Price'].fillna(df['Back Company'])\n",
    "\n",
    "# Then fill Back Company from Dep Company if needed\n",
    "df['Back Company'] = df['Back Company'].fillna(df['Dep Company'])\n",
    "\n",
    "# Optionally clear out Back Company in rows where it was used for Price\n",
    "mask_used_for_price = df['Price'] == df['Back Company']\n",
    "df.loc[mask_used_for_price, 'Back Company'] = np.nan"
   ]
  },
  {
   "cell_type": "code",
   "execution_count": 97,
   "metadata": {},
   "outputs": [],
   "source": [
    "df['Back Company'] = df['Back Company'].fillna(df['Dep Company'])"
   ]
  },
  {
   "cell_type": "code",
   "execution_count": null,
   "metadata": {},
   "outputs": [],
   "source": [
    "# Convert \"Direct\" to 0, \"1 stop ...\" to 1, \"2 stops ...\" to 2\n",
    "df['Stops'] = df['Stops'].replace(\n",
    "    {'Direct': 0, r'1 stop.*': 1, r'2 stops.*': 2}, regex=True\n",
    ")\n",
    "df['Stops.1'] = df['Stops.1'].replace(\n",
    "    {'Direct': 0, r'1 stop.*': 1, r'2 stops.*': 2}, regex=True\n",
    ")"
   ]
  },
  {
   "cell_type": "code",
   "execution_count": 99,
   "metadata": {},
   "outputs": [],
   "source": [
    "df.to_csv(\"flight_data_kiwi_02_03_25_clean.csv\", index=False)"
   ]
  },
  {
   "cell_type": "code",
   "execution_count": null,
   "metadata": {},
   "outputs": [],
   "source": []
  }
 ],
 "metadata": {
  "kernelspec": {
   "display_name": "base",
   "language": "python",
   "name": "python3"
  },
  "language_info": {
   "codemirror_mode": {
    "name": "ipython",
    "version": 3
   },
   "file_extension": ".py",
   "mimetype": "text/x-python",
   "name": "python",
   "nbconvert_exporter": "python",
   "pygments_lexer": "ipython3",
   "version": "3.11.7"
  }
 },
 "nbformat": 4,
 "nbformat_minor": 2
}

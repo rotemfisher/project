{
 "cells": [
  {
   "cell_type": "code",
   "execution_count": 143,
   "metadata": {},
   "outputs": [],
   "source": [
    "import pandas as pd\n",
    "import numpy as np\n",
    "import re"
   ]
  },
  {
   "cell_type": "code",
   "execution_count": 144,
   "metadata": {},
   "outputs": [],
   "source": [
    "df = pd.read_csv(\"flight_data_kiwi_03_02_25.csv\")"
   ]
  },
  {
   "cell_type": "code",
   "execution_count": 145,
   "metadata": {},
   "outputs": [],
   "source": [
    "# First fill Price from Back Company if needed\n",
    "df['Price'] = df['Price'].fillna(df['Back Company'])\n",
    "\n",
    "# Then fill Back Company from Dep Company if needed\n",
    "df['Back Company'] = df['Back Company'].fillna(df['Dep Company'])\n",
    "\n",
    "# Optionally clear out Back Company in rows where it was used for Price\n",
    "mask_used_for_price = df['Price'] == df['Back Company']\n",
    "df.loc[mask_used_for_price, 'Back Company'] = np.nan"
   ]
  },
  {
   "cell_type": "code",
   "execution_count": 146,
   "metadata": {},
   "outputs": [],
   "source": [
    "df['Back Company'] = df['Back Company'].fillna(df['Dep Company'])"
   ]
  },
  {
   "cell_type": "code",
   "execution_count": 147,
   "metadata": {},
   "outputs": [],
   "source": [
    "# 1) Make sure 'Stops.1' is all strings\n",
    "df['Stops.1'] = df['Stops.1'].fillna('').astype(str)\n",
    "\n",
    "# 2) Create new columns\n",
    "df['Stops'] = np.nan\n",
    "df['Stops City'] = np.nan\n",
    "\n",
    "# 3) Mask for direct flights\n",
    "mask_direct = df['Stops.1'].str.lower().eq('direct')\n",
    "df.loc[mask_direct, 'Stops'] = 0\n",
    "df.loc[mask_direct, 'Stops City'] = np.nan\n",
    "\n",
    "# 4) Mask for flights that contain \"stop\" or \"stops\"\n",
    "mask_stops = df['Stops.1'].str.lower().str.contains('stop', na=False)\n",
    "\n",
    "# (a) Extract the number of stops\n",
    "df.loc[mask_stops, 'Stops'] = (\n",
    "    df.loc[mask_stops, 'Stops.1']\n",
    "      .str.extract(r'(\\d+)')[0]  # Captures digits before \"stop\"\n",
    "      .astype(float)             # or int if always whole numbers\n",
    ")"
   ]
  },
  {
   "cell_type": "code",
   "execution_count": 148,
   "metadata": {},
   "outputs": [],
   "source": [
    "# Remove the leading \"<digits> stop(s) • \" part from Stops.1\n",
    "df['Stops City'] = df['Stops.1'].replace(\n",
    "    to_replace=r'^\\d+\\s*stops?\\s*•\\s*',   # e.g. \"1 stop •\", \"2 stops •\"\n",
    "    value='',\n",
    "    regex=True\n",
    ")\n",
    "\n",
    "# Then set \"Direct\" rows to NaN in the new column\n",
    "df.loc[df['Stops.1'] == 'Direct', 'Stops City'] = np.nan"
   ]
  },
  {
   "cell_type": "code",
   "execution_count": 149,
   "metadata": {},
   "outputs": [],
   "source": [
    "df.to_csv(\"flight_data_kiwi_clean.csv\", index=False)"
   ]
  }
 ],
 "metadata": {
  "kernelspec": {
   "display_name": "base",
   "language": "python",
   "name": "python3"
  },
  "language_info": {
   "codemirror_mode": {
    "name": "ipython",
    "version": 3
   },
   "file_extension": ".py",
   "mimetype": "text/x-python",
   "name": "python",
   "nbconvert_exporter": "python",
   "pygments_lexer": "ipython3",
   "version": "3.11.7"
  }
 },
 "nbformat": 4,
 "nbformat_minor": 2
}
